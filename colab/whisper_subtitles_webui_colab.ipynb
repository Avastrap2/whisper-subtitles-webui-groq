{
  "nbformat": 4,
  "nbformat_minor": 0,
  "metadata": {
    "colab": {
      "provenance": []
    },
    "kernelspec": {
      "name": "python3",
      "display_name": "Python 3"
    },
    "language_info": {
      "name": "python"
    },
    "accelerator": "GPU",
    "gpuClass": "standard"
  },
  "cells": [
    {
      "cell_type": "markdown",
      "source": [
        "# Clone and install dependencies"
      ],
      "metadata": {
        "id": "ZiuEHGjLiLq-"
      }
    },
    {
      "cell_type": "code",
      "source": [
        "! git clone https://github.com/EliasVincent/whisper-subtitles-webui\n",
        "! pip install -U pip\n",
        "! pip install -r whisper-subtitles-webui/requirements.txt\n",
        "! add-apt-repository -y ppa:savoury1/ffmpeg4\n",
        "! apt-get -qq install -y ffmpeg\n"
      ],
      "metadata": {
        "id": "cdhoSxCJiMFA"
      },
      "execution_count": null,
      "outputs": []
    },
    {
      "cell_type": "markdown",
      "source": [
        "# Start server"
      ],
      "metadata": {
        "id": "zj_Xi9baiqQk"
      }
    },
    {
      "cell_type": "code",
      "source": [
        "! python whisper-subtitles-webui/server.py --remote=True"
      ],
      "metadata": {
        "id": "fOC6bU2nui_r"
      },
      "execution_count": null,
      "outputs": []
    }
  ]
}